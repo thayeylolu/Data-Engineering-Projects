{
 "cells": [
  {
   "cell_type": "code",
   "execution_count": 1,
   "id": "a46ac4ae-c481-4fe1-b929-f6422f533dcc",
   "metadata": {},
   "outputs": [],
   "source": [
    "import pandas as pd\n",
    "from kafka import KafkaConsumer\n",
    "from time import sleep\n",
    "from json import dumps\n",
    "import json\n"
   ]
  },
  {
   "cell_type": "code",
   "execution_count": 2,
   "id": "ec2287cc-2794-4c9d-a19d-532b84140492",
   "metadata": {},
   "outputs": [],
   "source": [
    "consumer = KafkaConsumer('demo_kaf1',\n",
    "                        bootstrap_servers = ['52.32.219.245:9092'], \n",
    "                          value_deserializer = lambda x: loads(x.decode('utf-8'))) "
   ]
  },
  {
   "cell_type": "code",
   "execution_count": null,
   "id": "f2e830bd-548b-4f57-a0e9-93d5c384aeb7",
   "metadata": {},
   "outputs": [],
   "source": [
    "for item in consumer:\n",
    "    print(item.value)"
   ]
  },
  {
   "cell_type": "code",
   "execution_count": null,
   "id": "d099e9f7-0d2b-4d59-a468-b18afbb44844",
   "metadata": {},
   "outputs": [],
   "source": []
  }
 ],
 "metadata": {
  "kernelspec": {
   "display_name": "Python 3 (ipykernel)",
   "language": "python",
   "name": "python3"
  },
  "language_info": {
   "codemirror_mode": {
    "name": "ipython",
    "version": 3
   },
   "file_extension": ".py",
   "mimetype": "text/x-python",
   "name": "python",
   "nbconvert_exporter": "python",
   "pygments_lexer": "ipython3",
   "version": "3.9.10"
  }
 },
 "nbformat": 4,
 "nbformat_minor": 5
}
