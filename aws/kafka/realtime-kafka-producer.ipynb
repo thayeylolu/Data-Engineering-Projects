{
 "cells": [
  {
   "cell_type": "code",
   "execution_count": 1,
   "id": "29a77c50-3f45-46a2-8e78-74ea45cde17b",
   "metadata": {},
   "outputs": [],
   "source": [
    "#!pip install kafka-python"
   ]
  },
  {
   "cell_type": "code",
   "execution_count": 6,
   "id": "6fbb6f98-dda7-419a-9399-665060e84a3b",
   "metadata": {},
   "outputs": [],
   "source": [
    "import pandas as pd\n",
    "from kafka import KafkaProducer\n",
    "from time import sleep\n",
    "from json import dumps, loads\n",
    "import json\n",
    "from itertools import cycle\n",
    "import os"
   ]
  },
  {
   "cell_type": "code",
   "execution_count": 3,
   "id": "d17dac34-07ad-4f7d-bd6c-df156964edaa",
   "metadata": {},
   "outputs": [],
   "source": [
    "producer = KafkaProducer(bootstrap_servers = ['52.32.219.245:9092'], \n",
    "                          value_serializer = lambda x: dumps(x).encode('utf-8'))"
   ]
  },
  {
   "cell_type": "code",
   "execution_count": 4,
   "id": "3661e0a2-9afb-4eb3-95ec-103886bd2d5a",
   "metadata": {},
   "outputs": [
    {
     "data": {
      "text/plain": [
       "<kafka.producer.future.FutureRecordMetadata at 0x110d070a0>"
      ]
     },
     "execution_count": 4,
     "metadata": {},
     "output_type": "execute_result"
    }
   ],
   "source": [
    "producer.send('demo_kaf1', value = {'surname': 'angelina'})"
   ]
  },
  {
   "cell_type": "code",
   "execution_count": null,
   "id": "46877a7f-7daa-473a-8d00-28ac768d0122",
   "metadata": {},
   "outputs": [],
   "source": [
    "producer.flush()"
   ]
  },
  {
   "cell_type": "code",
   "execution_count": null,
   "id": "d92540b8-7046-4169-921f-f43b964222d6",
   "metadata": {},
   "outputs": [],
   "source": []
  },
  {
   "cell_type": "code",
   "execution_count": 22,
   "id": "a9ac5320-52d0-4d65-ab6f-a3ea5afae962",
   "metadata": {},
   "outputs": [
    {
     "data": {
      "text/plain": [
       "[{'Order ID': '258046',\n",
       "  'Product': 'AAA Batteries (4-pack)',\n",
       "  'Quantity Ordered': '1',\n",
       "  'Price Each': '2.99',\n",
       "  'Order Date': '09/29/19 15:22',\n",
       "  'Purchase Address': '524 7th St, Boston, MA 02215'}]"
      ]
     },
     "execution_count": 22,
     "metadata": {},
     "output_type": "execute_result"
    }
   ],
   "source": [
    "\n",
    "\n",
    "# Set the directory where the CSV files are stored\n",
    "directory = str(os.getcwd()) + \"/data repo\"\n",
    "\n",
    "# Create an empty list to store the data frames\n",
    "dfs = []\n",
    "\n",
    "# Loop through all CSV files in the directory\n",
    "for filename in os.listdir(directory):\n",
    "    if filename.endswith(\".csv\"):\n",
    "        # Read the CSV file into a data frame\n",
    "        df = pd.read_csv(os.path.join(directory, filename))\n",
    "        # Append the data frame to the list\n",
    "        dfs.append(df)\n",
    "\n",
    "# Concatenate all data frames in the list into a single data frame\n",
    "master_df = pd.concat(dfs, ignore_index=True)\n",
    "\n",
    "drop_list = ['Product', 'LG Washing Machine', 'LG Dryer', 'Flatscreen TV', 'Vareebadd Phone']\n",
    "mask = master_df.isin(drop_list).any(axis=1)\n",
    "\n",
    "# Drop the rows based on the boolean mask\n",
    "master_df = master_df[~mask]\n",
    "\n",
    "# Print the master data frame\n"
   ]
  },
  {
   "cell_type": "code",
   "execution_count": 23,
   "id": "574c3982-4421-47be-aa20-0732e3cc019f",
   "metadata": {},
   "outputs": [
    {
     "data": {
      "text/plain": [
       "USB-C Charging Cable          21903\n",
       "Lightning Charging Cable      21658\n",
       "AAA Batteries (4-pack)        20641\n",
       "AA Batteries (4-pack)         20577\n",
       "Wired Headphones              18882\n",
       "Apple Airpods Headphones      15549\n",
       "Bose SoundSport Headphones    13325\n",
       "27in FHD Monitor               7507\n",
       "iPhone                         6842\n",
       "27in 4K Gaming Monitor         6230\n",
       "34in Ultrawide Monitor         6181\n",
       "Google Phone                   5525\n",
       "Macbook Pro Laptop             4724\n",
       "ThinkPad Laptop                4128\n",
       "20in Monitor                   4101\n",
       "Name: Product, dtype: int64"
      ]
     },
     "execution_count": 23,
     "metadata": {},
     "output_type": "execute_result"
    }
   ],
   "source": [
    "\n",
    "master_df.sample(1).to_dict(orient=\"records\")"
   ]
  },
  {
   "cell_type": "code",
   "execution_count": null,
   "id": "d7725f1c-883e-4596-8ffc-6f1508747167",
   "metadata": {},
   "outputs": [],
   "source": []
  }
 ],
 "metadata": {
  "kernelspec": {
   "display_name": "Python 3 (ipykernel)",
   "language": "python",
   "name": "python3"
  },
  "language_info": {
   "codemirror_mode": {
    "name": "ipython",
    "version": 3
   },
   "file_extension": ".py",
   "mimetype": "text/x-python",
   "name": "python",
   "nbconvert_exporter": "python",
   "pygments_lexer": "ipython3",
   "version": "3.9.10"
  }
 },
 "nbformat": 4,
 "nbformat_minor": 5
}
