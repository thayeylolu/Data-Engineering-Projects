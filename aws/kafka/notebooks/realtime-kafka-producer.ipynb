{
 "cells": [
  {
   "cell_type": "code",
   "execution_count": 1,
   "id": "29a77c50-3f45-46a2-8e78-74ea45cde17b",
   "metadata": {},
   "outputs": [],
   "source": [
    "#!pip install kafka-python"
   ]
  },
  {
   "cell_type": "code",
   "execution_count": 2,
   "id": "6437ae54-1801-4da0-bf31-5fe620ff9b7a",
   "metadata": {},
   "outputs": [],
   "source": [
    "#!pip install s3fs"
   ]
  },
  {
   "cell_type": "code",
   "execution_count": 3,
   "id": "6fbb6f98-dda7-419a-9399-665060e84a3b",
   "metadata": {},
   "outputs": [],
   "source": [
    "import pandas as pd\n",
    "from kafka import KafkaProducer\n",
    "from time import sleep\n",
    "from json import dumps, loads\n",
    "import json\n",
    "from itertools import cycle\n",
    "import os"
   ]
  },
  {
   "cell_type": "code",
   "execution_count": 4,
   "id": "d17dac34-07ad-4f7d-bd6c-df156964edaa",
   "metadata": {},
   "outputs": [],
   "source": [
    "producer = KafkaProducer(bootstrap_servers = ['52.32.219.245:9092'], \n",
    "                          value_serializer = lambda x: dumps(x).encode('utf-8'))"
   ]
  },
  {
   "cell_type": "code",
   "execution_count": 5,
   "id": "3661e0a2-9afb-4eb3-95ec-103886bd2d5a",
   "metadata": {},
   "outputs": [],
   "source": [
    "#producer.send('demo_kaf1', value = {'surname': 'angelina'})"
   ]
  },
  {
   "cell_type": "code",
   "execution_count": 6,
   "id": "46877a7f-7daa-473a-8d00-28ac768d0122",
   "metadata": {},
   "outputs": [],
   "source": [
    "#producer.flush()"
   ]
  },
  {
   "cell_type": "code",
   "execution_count": 7,
   "id": "d92540b8-7046-4169-921f-f43b964222d6",
   "metadata": {},
   "outputs": [
    {
     "data": {
      "text/plain": [
       "'/Users/hasana/Documents/projects/Data-Engineering-Projects/aws/kafka'"
      ]
     },
     "execution_count": 7,
     "metadata": {},
     "output_type": "execute_result"
    }
   ],
   "source": [
    "path = os.getcwd()\n",
    "PARENT_DIR = os.path.abspath(os.path.join(path, os.pardir))\n",
    "PARENT_DIR"
   ]
  },
  {
   "cell_type": "code",
   "execution_count": 8,
   "id": "a9ac5320-52d0-4d65-ab6f-a3ea5afae962",
   "metadata": {},
   "outputs": [],
   "source": [
    "\n",
    "\n",
    "# Set the directory where the CSV files are stored\n",
    "directory = PARENT_DIR + \"/data repo\"\n",
    "\n",
    "# Create an empty list to store the data frames\n",
    "dfs = []\n",
    "\n",
    "# Loop through all CSV files in the directory\n",
    "for filename in os.listdir(directory):\n",
    "    if filename.endswith(\".csv\"):\n",
    "        # Read the CSV file into a data frame\n",
    "        df = pd.read_csv(os.path.join(directory, filename))\n",
    "        # Append the data frame to the list\n",
    "        dfs.append(df)\n",
    "\n",
    "# Concatenate all data frames in the list into a single data frame\n",
    "master_df = pd.concat(dfs, ignore_index=True)\n",
    "\n",
    "drop_list = ['Product', 'LG Washing Machine', 'LG Dryer', 'Flatscreen TV', 'Vareebadd Phone']\n",
    "mask = master_df.isin(drop_list).any(axis=1)\n",
    "\n",
    "# Drop the rows based on the boolean mask\n",
    "master_df = master_df[~mask]\n",
    "master_df = master_df.dropna()"
   ]
  },
  {
   "cell_type": "code",
   "execution_count": 9,
   "id": "5a07e10c-0779-4a3d-be45-28be14c30aea",
   "metadata": {},
   "outputs": [],
   "source": [
    "# create dictionary mapping original values to unique values\n",
    "category_product = zip(list(master_df.Product.unique()),\n",
    "                       ['Laptop', 'Charger', 'Monitor', \n",
    "                      'Battery', 'Headphone', 'Battery', 'Laptop','Charger',\n",
    "                     'Phone', 'Headphone','Headphone','Phone',\n",
    "                      'Monitor','Monitor','Monitor' ])\n",
    "\n",
    "mapping_dict = dict(category_product)\n",
    "\n",
    "# use map method to create new column\n",
    "master_df['Category'] = master_df['Product'].map(mapping_dict)"
   ]
  },
  {
   "cell_type": "code",
   "execution_count": 10,
   "id": "574c3982-4421-47be-aa20-0732e3cc019f",
   "metadata": {},
   "outputs": [
    {
     "ename": "KeyboardInterrupt",
     "evalue": "",
     "output_type": "error",
     "traceback": [
      "\u001b[0;31m---------------------------------------------------------------------------\u001b[0m",
      "\u001b[0;31mKeyboardInterrupt\u001b[0m                         Traceback (most recent call last)",
      "Input \u001b[0;32mIn [10]\u001b[0m, in \u001b[0;36m<cell line: 3>\u001b[0;34m()\u001b[0m\n\u001b[1;32m      1\u001b[0m \u001b[38;5;28;01mwhile\u001b[39;00m \u001b[38;5;28;01mTrue\u001b[39;00m:\n\u001b[1;32m      2\u001b[0m     \u001b[38;5;66;03m#sample_records = master_df.sample(1).to_dict(orient=\"records\")\u001b[39;00m\n\u001b[1;32m      3\u001b[0m     producer\u001b[38;5;241m.\u001b[39msend(\u001b[38;5;124m'\u001b[39m\u001b[38;5;124mdemo_kaf1\u001b[39m\u001b[38;5;124m'\u001b[39m, master_df\u001b[38;5;241m.\u001b[39msample(\u001b[38;5;241m1\u001b[39m)\u001b[38;5;241m.\u001b[39mto_dict(orient\u001b[38;5;241m=\u001b[39m\u001b[38;5;124m\"\u001b[39m\u001b[38;5;124mrecords\u001b[39m\u001b[38;5;124m\"\u001b[39m))\n\u001b[0;32m----> 4\u001b[0m     \u001b[43msleep\u001b[49m\u001b[43m(\u001b[49m\u001b[38;5;241;43m5\u001b[39;49m\u001b[43m)\u001b[49m\n",
      "\u001b[0;31mKeyboardInterrupt\u001b[0m: "
     ]
    }
   ],
   "source": [
    "while True:\n",
    "    #sample_records = master_df.sample(1).to_dict(orient=\"records\")\n",
    "    producer.send('demo_kaf1', master_df.sample(1).to_dict(orient=\"records\"))\n",
    "    sleep(5)"
   ]
  },
  {
   "cell_type": "code",
   "execution_count": 11,
   "id": "6db100c0-56c7-4d05-af46-3bc0027b868f",
   "metadata": {},
   "outputs": [],
   "source": [
    "producer.flush()"
   ]
  },
  {
   "cell_type": "code",
   "execution_count": null,
   "id": "9f97f121-b0d2-4552-992b-9514272e9638",
   "metadata": {},
   "outputs": [],
   "source": []
  }
 ],
 "metadata": {
  "kernelspec": {
   "display_name": "Python 3 (ipykernel)",
   "language": "python",
   "name": "python3"
  },
  "language_info": {
   "codemirror_mode": {
    "name": "ipython",
    "version": 3
   },
   "file_extension": ".py",
   "mimetype": "text/x-python",
   "name": "python",
   "nbconvert_exporter": "python",
   "pygments_lexer": "ipython3",
   "version": "3.9.10"
  }
 },
 "nbformat": 4,
 "nbformat_minor": 5
}
