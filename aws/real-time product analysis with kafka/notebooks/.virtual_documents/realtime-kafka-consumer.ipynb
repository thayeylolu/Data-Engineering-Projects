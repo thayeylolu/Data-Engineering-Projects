import pandas as pd
from kafka import KafkaConsumer
from time import sleep
from json import dump, loads
import json
from s3fs import S3FileSystem


consumer = KafkaConsumer('demo_kaf1',
                        bootstrap_servers = ['52.32.219.245:9092'], 
                          value_deserializer = lambda x: loads(x.decode('utf-8'))) 


s3 = S3FileSystem()


for count, document in enumerate(consumer):
    with s3.open('s3://amazon-products-sales-in-america/amzon-product_{}.json'.format(count), 'w') as file:
        json.dump(document.value, file)









